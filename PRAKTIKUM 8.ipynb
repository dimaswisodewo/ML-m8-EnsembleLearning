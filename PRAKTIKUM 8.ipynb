{
 "cells": [
  {
   "cell_type": "markdown",
   "metadata": {},
   "source": [
    "## BAGGING DECISION TREE"
   ]
  },
  {
   "cell_type": "code",
   "execution_count": 1,
   "metadata": {},
   "outputs": [],
   "source": [
    "import pandas as pd\n",
    "\n",
    "diabetesData = pd.read_csv('diabetes.csv')"
   ]
  },
  {
   "cell_type": "code",
   "execution_count": 2,
   "metadata": {},
   "outputs": [
    {
     "data": {
      "text/html": [
       "<div>\n",
       "<style scoped>\n",
       "    .dataframe tbody tr th:only-of-type {\n",
       "        vertical-align: middle;\n",
       "    }\n",
       "\n",
       "    .dataframe tbody tr th {\n",
       "        vertical-align: top;\n",
       "    }\n",
       "\n",
       "    .dataframe thead th {\n",
       "        text-align: right;\n",
       "    }\n",
       "</style>\n",
       "<table border=\"1\" class=\"dataframe\">\n",
       "  <thead>\n",
       "    <tr style=\"text-align: right;\">\n",
       "      <th></th>\n",
       "      <th>Pregnancies</th>\n",
       "      <th>Glucose</th>\n",
       "      <th>BloodPressure</th>\n",
       "      <th>SkinThickness</th>\n",
       "      <th>Insulin</th>\n",
       "      <th>BMI</th>\n",
       "      <th>DiabetesPedigreeFunction</th>\n",
       "      <th>Age</th>\n",
       "      <th>Outcome</th>\n",
       "    </tr>\n",
       "  </thead>\n",
       "  <tbody>\n",
       "    <tr>\n",
       "      <th>0</th>\n",
       "      <td>6</td>\n",
       "      <td>148</td>\n",
       "      <td>72</td>\n",
       "      <td>35</td>\n",
       "      <td>0</td>\n",
       "      <td>33.6</td>\n",
       "      <td>0.627</td>\n",
       "      <td>50</td>\n",
       "      <td>1</td>\n",
       "    </tr>\n",
       "    <tr>\n",
       "      <th>1</th>\n",
       "      <td>1</td>\n",
       "      <td>85</td>\n",
       "      <td>66</td>\n",
       "      <td>29</td>\n",
       "      <td>0</td>\n",
       "      <td>26.6</td>\n",
       "      <td>0.351</td>\n",
       "      <td>31</td>\n",
       "      <td>0</td>\n",
       "    </tr>\n",
       "    <tr>\n",
       "      <th>2</th>\n",
       "      <td>8</td>\n",
       "      <td>183</td>\n",
       "      <td>64</td>\n",
       "      <td>0</td>\n",
       "      <td>0</td>\n",
       "      <td>23.3</td>\n",
       "      <td>0.672</td>\n",
       "      <td>32</td>\n",
       "      <td>1</td>\n",
       "    </tr>\n",
       "    <tr>\n",
       "      <th>3</th>\n",
       "      <td>1</td>\n",
       "      <td>89</td>\n",
       "      <td>66</td>\n",
       "      <td>23</td>\n",
       "      <td>94</td>\n",
       "      <td>28.1</td>\n",
       "      <td>0.167</td>\n",
       "      <td>21</td>\n",
       "      <td>0</td>\n",
       "    </tr>\n",
       "    <tr>\n",
       "      <th>4</th>\n",
       "      <td>0</td>\n",
       "      <td>137</td>\n",
       "      <td>40</td>\n",
       "      <td>35</td>\n",
       "      <td>168</td>\n",
       "      <td>43.1</td>\n",
       "      <td>2.288</td>\n",
       "      <td>33</td>\n",
       "      <td>1</td>\n",
       "    </tr>\n",
       "  </tbody>\n",
       "</table>\n",
       "</div>"
      ],
      "text/plain": [
       "   Pregnancies  Glucose  BloodPressure  SkinThickness  Insulin   BMI  \\\n",
       "0            6      148             72             35        0  33.6   \n",
       "1            1       85             66             29        0  26.6   \n",
       "2            8      183             64              0        0  23.3   \n",
       "3            1       89             66             23       94  28.1   \n",
       "4            0      137             40             35      168  43.1   \n",
       "\n",
       "   DiabetesPedigreeFunction  Age  Outcome  \n",
       "0                     0.627   50        1  \n",
       "1                     0.351   31        0  \n",
       "2                     0.672   32        1  \n",
       "3                     0.167   21        0  \n",
       "4                     2.288   33        1  "
      ]
     },
     "execution_count": 2,
     "metadata": {},
     "output_type": "execute_result"
    }
   ],
   "source": [
    "diabetesData.head()"
   ]
  },
  {
   "cell_type": "code",
   "execution_count": 3,
   "metadata": {},
   "outputs": [],
   "source": [
    "colNames = []\n",
    "\n",
    "for i in diabetesData:\n",
    "    if i != 'Outcome':\n",
    "        colNames.append(i)\n",
    "    \n",
    "X = pd.read_csv('diabetes.csv', usecols=colNames)\n",
    "y = diabetesData.Outcome"
   ]
  },
  {
   "cell_type": "code",
   "execution_count": 624,
   "metadata": {},
   "outputs": [],
   "source": [
    "import random\n",
    "from sklearn.metrics import accuracy_score\n",
    "\n",
    "# Bagging / Random sample with replacement\n",
    "def GetTrainTestBagging(dataset, y, ratio):\n",
    "    X_train = list()\n",
    "    y_train = list()\n",
    "    n_train = round(len(dataset) * ratio)\n",
    "    train_index = list()\n",
    "    \n",
    "    # Create X_train, y_train with random with replacement\n",
    "    while len(X_train) < n_train:\n",
    "        X_temp = list()\n",
    "        index = random.randrange(0, len(dataset))\n",
    "        for i in range(0, len(dataset.columns)):\n",
    "            X_temp.append(dataset.iloc[index][i])\n",
    "            train_index.append(index)\n",
    "        X_train.append(X_temp)\n",
    "        y_train.append(y[index])\n",
    "        \n",
    "    X_test = list()\n",
    "    y_test = list()\n",
    "    train_index_unique = list() # Contain index of X_train in dataset\n",
    "    \n",
    "    for i in train_index:\n",
    "        if i not in train_index_unique:\n",
    "            train_index_unique.append(i)\n",
    "            \n",
    "    n_test = len(dataset) - len(train_index_unique)\n",
    "    \n",
    "    # Create X_test, y_test from dataset which not used in X_test, y_test\n",
    "    for i in range(0, len(dataset)):\n",
    "        if i not in train_index_unique:\n",
    "            X_temp = list()\n",
    "            for j in range(0, len(dataset.columns)):\n",
    "                X_temp.append(dataset.iloc[i][j])\n",
    "            X_test.append(X_temp)\n",
    "            y_test.append(y[i])\n",
    "          \n",
    "    print('n_train : ', n_train, '\\nn_test : ', n_test)\n",
    "    return X_train, X_test, y_train, y_test\n",
    "\n",
    "# Train + Predict\n",
    "def PredictBagging(X_train, X_test, y_train, y_test, models):\n",
    "    for model in models:\n",
    "        TrainModel(model, X_train, y_train) # Train the classifier\n",
    "    \n",
    "    y_pred = [] # Contain list of y_pred of each trees\n",
    "    for model in models:\n",
    "        pred = model.predict(X_test)\n",
    "        y_pred.append(pred)\n",
    "    \n",
    "    accuracyScore = [] # Contain accuracy of each model\n",
    "    for i in range(0, len(y_pred)):\n",
    "        accuracyScore.append(accuracy_score(y_test, y_pred[i]))\n",
    "    \n",
    "    print('Accuracy of each model:')\n",
    "    for i in range(0, len(accuracyScore)):\n",
    "        print('Model ',i+1,' : ',accuracyScore[i])\n",
    "    \n",
    "    y_pred2 = [] # Contain the most voted prediction\n",
    "    for i in range(0, len(X_test)):\n",
    "        temp = []\n",
    "        for j in range (0, len(y_pred)):\n",
    "            temp.append(y_pred[j][i])\n",
    "        y_pred2.append(int(max(set(temp), key=temp.count)))\n",
    "        \n",
    "    return y_pred2\n",
    "\n",
    "# Train classifier\n",
    "def TrainModel(model, X_train, y_train):\n",
    "    model.fit(X_train, y_train)\n",
    "\n",
    "# Convert to DataFrame\n",
    "def convert_to_dataframe(data, column):\n",
    "    temp = []\n",
    "    temp = pd.DataFrame(data, columns=column)\n",
    "    return temp"
   ]
  },
  {
   "cell_type": "code",
   "execution_count": 620,
   "metadata": {},
   "outputs": [
    {
     "name": "stdout",
     "output_type": "stream",
     "text": [
      "n_train :  538 \n",
      "n_test :  381\n"
     ]
    }
   ],
   "source": [
    "X_train, X_test, y_train, y_test = GetTrainTestBagging(X, y, ratio=0.7)\n",
    "\n",
    "X_train = convert_to_dataframe(X_train, colNames)\n",
    "X_test = convert_to_dataframe(X_test, colNames)\n",
    "y_train = convert_to_dataframe(y_train, column=['Outcome'])\n",
    "y_test = convert_to_dataframe(y_test, column=['Outcome'])"
   ]
  },
  {
   "cell_type": "code",
   "execution_count": 625,
   "metadata": {},
   "outputs": [
    {
     "name": "stdout",
     "output_type": "stream",
     "text": [
      "Accuracy of each model:\n",
      "Model  1  :  0.7060367454068242\n",
      "Model  2  :  0.7165354330708661\n",
      "Model  3  :  0.7427821522309711\n",
      "Model  4  :  0.7322834645669292\n",
      "Model  5  :  0.7007874015748031\n",
      "Model  6  :  0.7034120734908137\n",
      "Model  7  :  0.7034120734908137\n",
      "Model  8  :  0.7375328083989501\n",
      "Model  9  :  0.6981627296587927\n",
      "Model  10  :  0.7060367454068242\n"
     ]
    }
   ],
   "source": [
    "from sklearn.tree import DecisionTreeClassifier\n",
    "\n",
    "model1 = DecisionTreeClassifier(criterion='gini', max_depth=10)\n",
    "model2 = DecisionTreeClassifier(criterion='entropy', max_depth=10)\n",
    "model3 = DecisionTreeClassifier(criterion='gini', max_depth=6)\n",
    "model4 = DecisionTreeClassifier(criterion='entropy', max_depth=6)\n",
    "model5 = DecisionTreeClassifier(criterion='gini', max_depth=15)\n",
    "model6 = DecisionTreeClassifier(criterion='entropy', max_depth=15)\n",
    "model7 = DecisionTreeClassifier(criterion='gini', max_depth=8)\n",
    "model8 = DecisionTreeClassifier(criterion='entropy', max_depth=8)\n",
    "model9 = DecisionTreeClassifier(criterion='gini')\n",
    "model10 = DecisionTreeClassifier(criterion='entropy')\n",
    "    \n",
    "models = [model1, model2, model3, model4, model5, model6, model7, model8, model9, model10]\n",
    "\n",
    "y_pred = PredictBagging(X_train, X_test, y_train, y_test, models)"
   ]
  },
  {
   "cell_type": "code",
   "execution_count": 623,
   "metadata": {},
   "outputs": [
    {
     "name": "stdout",
     "output_type": "stream",
     "text": [
      "Accuracy :  0.7270341207349081\n"
     ]
    }
   ],
   "source": [
    "print('Accuracy : ', accuracy_score(y_test, y_pred))"
   ]
  }
 ],
 "metadata": {
  "kernelspec": {
   "display_name": "Python 3",
   "language": "python",
   "name": "python3"
  },
  "language_info": {
   "codemirror_mode": {
    "name": "ipython",
    "version": 3
   },
   "file_extension": ".py",
   "mimetype": "text/x-python",
   "name": "python",
   "nbconvert_exporter": "python",
   "pygments_lexer": "ipython3",
   "version": "3.7.3"
  }
 },
 "nbformat": 4,
 "nbformat_minor": 2
}
